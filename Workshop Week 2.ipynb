{
 "cells": [
  {
   "cell_type": "markdown",
   "metadata": {},
   "source": [
    "The goal this week is to pratice using Markdown to write descriptive text in notebooks and then look at Python data structures including the pandas module that supports data structures designed for handling the kind of data we'll be working with.  \n",
    "\n",
    "There is probably too much work to complete here in the workshop session, but please use this notebook after the workshop to practice your Python.  Remember to commit your changes to git as you go and push back to Github when you are done."
   ]
  },
  {
   "cell_type": "code",
   "execution_count": 18,
   "metadata": {},
   "outputs": [],
   "source": [
    "student_name = \"Your Name Here\"\n",
    "student_id = \"Your ID Here\""
   ]
  },
  {
   "cell_type": "markdown",
   "metadata": {},
   "source": [
    "## Markdown Practice\n",
    "\n",
    "Complete this section as per the instructions in the iLearn practical page.  Add the required cells below this one."
   ]
  },
  {
   "cell_type": "markdown",
   "metadata": {},
   "source": [
    "## Markdown Samples \n",
    "\n",
    "Here are the three useful features of [Markdown](https://daringfireball.net/projects/markdown/)\n",
    "\n",
    "<ol>\n",
    "    <li>It is easy to write</li>\n",
    "    <li>It can be turned into HTML automatically</li>\n",
    "    <li>It can be used to add simple formatting to text\n",
    "        <ul>\n",
    "            <li>for example <b>bold text </b> and <i> italic </i></li>\n",
    "            <li>also different paragraph structure</li>\n",
    "        </ul>\n",
    "    </li>\n",
    "    </ol>\n",
    "    \n",
    "The expression $\\sqrt{3x-1} + (1+x)^2$ is an example of Tex inline equation in a __[Markdown-formatted]()__ sentence\n",
    "\n",
    "Here is a sample of code:\n",
    "    \n",
    "       <code>git pull --rebase upstream master</code>\n",
    "       \n",
    "and here is an impage instered into the page:\n",
    "\n",
    "<img src=\"Git-Logo.png\" alt=\"Github Logo\" Title=\"Github Logo\" width=\"150\" height=\"100\"/>\n"
   ]
  },
  {
   "cell_type": "markdown",
   "metadata": {},
   "source": [
    "## Lists and Dictionaries\n",
    "\n",
    "First we look at some built in Python data structures: lists and dictionaries. \n",
    "\n",
    "A list is a sequence of things, unlike strongly typed languages (Java, C#) a list can contain a mixture of different types - there is no type for a list of integers or a list of lists.   Here are some lists:"
   ]
  },
  {
   "cell_type": "code",
   "execution_count": 19,
   "metadata": {},
   "outputs": [],
   "source": [
    "ages = [12, 99, 51, 3, 55]\n",
    "names = ['steve', 'jim', 'mary', 'carrie', 'zin']\n",
    "stuff = [12, 'eighteen', 6, ['another', 'list']]"
   ]
  },
  {
   "cell_type": "markdown",
   "metadata": {},
   "source": [
    "1. write code to print the first and third elements of each list\n",
    "2. write code to select and print everything except the first element of each list\n",
    "3. write a for loop that prints each element of the 'names' list"
   ]
  },
  {
   "cell_type": "code",
   "execution_count": 20,
   "metadata": {},
   "outputs": [
    {
     "name": "stdout",
     "output_type": "stream",
     "text": [
      "12 51\n",
      "[99, 51, 3, 55]\n",
      "steve\n",
      "jim\n",
      "mary\n",
      "carrie\n",
      "zin\n"
     ]
    }
   ],
   "source": [
    "print(ages[0], ages[2])\n",
    "print(ages[1:])\n",
    "for i in names:\n",
    "    print(i)\n",
    "    "
   ]
  },
  {
   "cell_type": "markdown",
   "metadata": {},
   "source": [
    "A dictionary is an associative array - it associates a value (any Python data type) with a key. The key is usually a string but can be any immutable type (string, number, tuple).  Here's some code that counts the occurence of words in a string.  It stores the count for each word in a dictionary using the word as a key. If the word is already stored in the dictionary, it adds one to the count, if not, it initialises the count to one.  \n",
    "\n",
    "The second for loop iterates over the keys in the dictionary and prints one line per entry.\n",
    "\n",
    "Modify this example to be a bit smarter:\n",
    "- make sure that punctuation characters are not included as parts of a word, be careful with hyphens - should they be included or not?\n",
    "- make the count use the lowercase version of a word, so that 'The' and 'the' are counted as the same word\n",
    "- **Challenge**: find the first and second most frequent words in the text\n",
    "- **Challenge**: take your code and write it as a function that takes a string and returns a list of words with their counts in order"
   ]
  },
  {
   "cell_type": "code",
   "execution_count": 21,
   "metadata": {},
   "outputs": [
    {
     "name": "stdout",
     "output_type": "stream",
     "text": [
      "This 1\n",
      "unit 3\n",
      "introduces 1\n",
      "students 1\n",
      "to 4\n",
      "the 5\n",
      "fundamental 1\n",
      "techniques 1\n",
      "and 3\n",
      "tools 2\n",
      "of 3\n",
      "data 5\n",
      "science, 1\n",
      "such 1\n",
      "as 1\n",
      "graphical 1\n",
      "display 1\n",
      "data, 1\n",
      "predictive 1\n",
      "models, 1\n",
      "evaluation 1\n",
      "methodologies, 1\n",
      "regression, 1\n",
      "classification 1\n",
      "clustering. 1\n",
      "The 1\n",
      "provides 1\n",
      "practical 1\n",
      "experience 1\n",
      "applying 1\n",
      "these 2\n",
      "methods 3\n",
      "using 1\n",
      "industry-standard 1\n",
      "software 1\n",
      "real-world 2\n",
      "sets. 1\n",
      "Students 1\n",
      "who 1\n",
      "have 2\n",
      "completed 1\n",
      "this 1\n",
      "will 1\n",
      "be 1\n",
      "able 1\n",
      "identify 1\n",
      "which 1\n",
      "science 1\n",
      "are 1\n",
      "most 1\n",
      "appropriate 1\n",
      "for 1\n",
      "a 1\n",
      "set, 2\n",
      "apply 1\n",
      "interpret 1\n",
      "results 1\n",
      "analysis 1\n",
      "they 1\n",
      "performed. 1\n"
     ]
    }
   ],
   "source": [
    "description = \"\"\"This unit introduces students to the fundamental techniques and \n",
    "tools of data science, such as the graphical display of data, \n",
    "predictive models, evaluation methodologies, regression, \n",
    "classification and clustering. The unit provides practical \n",
    "experience applying these methods using industry-standard \n",
    "software tools to real-world data sets. Students who have \n",
    "completed this unit will be able to identify which data \n",
    "science methods are most appropriate for a real-world data \n",
    "set, apply these methods to the data set, and interpret the \n",
    "results of the analysis they have performed. \"\"\"\n",
    "\n",
    "count = dict()\n",
    "for word in description.split():\n",
    "    if word in count:\n",
    "        count[word] += 1\n",
    "    else:\n",
    "        count[word] = 1\n",
    "        \n",
    "for word in count:\n",
    "    print(word, count[word])"
   ]
  },
  {
   "cell_type": "code",
   "execution_count": 22,
   "metadata": {},
   "outputs": [
    {
     "name": "stdout",
     "output_type": "stream",
     "text": [
      "this 2\n",
      "unit 3\n",
      "introduces 1\n",
      "students 2\n",
      "to 4\n",
      "the 6\n",
      "fundamental 1\n",
      "techniques 1\n",
      "and 3\n",
      "tools 2\n",
      "of 3\n",
      "data 5\n",
      "science, 1\n",
      "such 1\n",
      "as 1\n",
      "graphical 1\n",
      "display 1\n",
      "data, 1\n",
      "predictive 1\n",
      "models, 1\n",
      "evaluation 1\n",
      "methodologies, 1\n",
      "regression, 1\n",
      "classification 1\n",
      "clustering. 1\n",
      "provides 1\n",
      "practical 1\n",
      "experience 1\n",
      "applying 1\n",
      "these 2\n",
      "methods 3\n",
      "using 1\n",
      "industry-standard 1\n",
      "software 1\n",
      "real-world 2\n",
      "sets. 1\n",
      "who 1\n",
      "have 2\n",
      "completed 1\n",
      "will 1\n",
      "be 1\n",
      "able 1\n",
      "identify 1\n",
      "which 1\n",
      "science 1\n",
      "are 1\n",
      "most 1\n",
      "appropriate 1\n",
      "for 1\n",
      "a 1\n",
      "set, 2\n",
      "apply 1\n",
      "interpret 1\n",
      "results 1\n",
      "analysis 1\n",
      "they 1\n",
      "performed. 1\n"
     ]
    }
   ],
   "source": [
    "description = description.lower()\n",
    "count = dict()\n",
    "for word in description.split():\n",
    "    if word in count:\n",
    "        count[word] += 1\n",
    "    else:\n",
    "        count[word] = 1\n",
    "            \n",
    "for word in count:\n",
    "    print(word, count[word])\n",
    "          \n",
    "##import re \n",
    "##desc = re.sub)r'[^\\s\\w]',\",description)\n",
    "##print(desc)\n",
    "\n"
   ]
  },
  {
   "cell_type": "markdown",
   "metadata": {},
   "source": [
    "## Pandas Data Frames\n",
    "\n",
    "[Pandas](https://pandas.pydata.org) is a Python module that provides some important data structures for Data Science work and a large collection of methods for data analysis. \n",
    "\n",
    "The two main data structures are the [Series]() and [DataFrame](http://pandas.pydata.org/pandas-docs/stable/dsintro.html#dataframe).  \n",
    "\n",
    "A Series is a one dimensional array of data, but unlike the Python list the data is indexed - the index is like the dictionary key, any immutable value like a number or string.  You can use the label to select elements from the series as well as positional values.  \n",
    "\n",
    "A DataFrame is analogous to a spreadsheet - a two dimensional table of data with indexed rows and named columns. \n",
    "\n",
    "You should read up on these and follow the examples in the text.  Here are a few exercises to complete with data frames."
   ]
  },
  {
   "cell_type": "markdown",
   "metadata": {},
   "source": [
    "You are given three csv files containing sample data."
   ]
  },
  {
   "cell_type": "code",
   "execution_count": 23,
   "metadata": {},
   "outputs": [],
   "source": [
    "import pandas as pd\n",
    "import numpy as np\n",
    "import matplotlib.pyplot as plt\n",
    "%matplotlib inline\n",
    "\n",
    "ds1 = 'files/ds1.csv'\n",
    "ds2 = 'files/ds2.csv'\n",
    "ds3 = 'files/ds3.csv'"
   ]
  },
  {
   "cell_type": "markdown",
   "metadata": {},
   "source": [
    "Write code below to read one of these data files into a pandas data frame and:\n",
    "- show the first few rows: .head\n",
    "- find the summary data for each column: .describe\n",
    "- select just those rows where the value of x and y is over 50\n",
    "- select the column 'x' and create a series\n",
    "- plot the 'x' series as a line graph\n",
    "- plot the dataframe as a scatterplot\n",
    "\n",
    "Once you have the code for this, you can change the file you use for input of the data (ds2, ds3) and re-run the following cells to see the different output that is generated"
   ]
  },
  {
   "cell_type": "code",
   "execution_count": 24,
   "metadata": {},
   "outputs": [
    {
     "name": "stdout",
     "output_type": "stream",
     "text": [
      "(142, 2)\n",
      "<bound method NDFrame.head of            x        y\n",
      "0    55.3846  97.1795\n",
      "1    51.5385  96.0256\n",
      "2    46.1538  94.4872\n",
      "3    42.8205  91.4103\n",
      "4    40.7692  88.3333\n",
      "..       ...      ...\n",
      "137  39.4872  25.3846\n",
      "138  91.2821  41.5385\n",
      "139  50.0000  95.7692\n",
      "140  47.9487  95.0000\n",
      "141  44.1026  92.6923\n",
      "\n",
      "[142 rows x 2 columns]>\n",
      "                x           y\n",
      "count  142.000000  142.000000\n",
      "mean    54.263273   47.832253\n",
      "std     16.765142   26.935403\n",
      "min     22.307700    2.948700\n",
      "25%     44.102600   25.288450\n",
      "50%     53.333300   46.025600\n",
      "75%     64.743600   68.525675\n",
      "max     98.205100   99.487200\n"
     ]
    }
   ],
   "source": [
    "df1 = pd.read_csv(ds1)\n",
    "df2 = pd.read_csv(ds2)\n",
    "df3 = pd.read_csv(ds3)\n",
    "print(df1.shape)\n",
    "print(df1.head)\n",
    "print(df1.describe())"
   ]
  },
  {
   "cell_type": "code",
   "execution_count": 25,
   "metadata": {
    "scrolled": false
   },
   "outputs": [
    {
     "name": "stdout",
     "output_type": "stream",
     "text": [
      "          x        y\n",
      "0   55.3846  97.1795\n",
      "1   51.5385  96.0256\n",
      "22  53.0769  55.6410\n",
      "23  56.6667  56.0256\n",
      "24  59.2308  57.9487\n",
      "25  61.2821  62.1795\n",
      "26  61.5385  66.4103\n",
      "27  61.7949  69.1026\n",
      "28  57.4359  55.2564\n",
      "60  70.5128  53.7180\n",
      "61  71.5385  60.6410\n",
      "62  71.5385  64.4872\n",
      "63  69.4872  69.4872\n",
      "67  53.0769  85.2564\n",
      "68  55.3846  86.0256\n",
      "69  56.6667  86.0256\n",
      "70  56.1538  82.9487\n",
      "71  53.8462  80.6410\n",
      "72  51.2821  78.7180\n",
      "78  57.9487  99.4872\n",
      "79  61.7949  99.1026\n",
      "80  64.8718  97.5641\n",
      "81  68.4615  94.1026\n",
      "82  70.7692  91.0256\n",
      "83  72.0513  86.4103\n",
      "84  73.8462  83.3333\n",
      "85  75.1282  79.1026\n",
      "86  76.6667  75.2564\n",
      "87  77.6923  71.4103\n",
      "88  79.7436  66.7949\n",
      "89  81.7949  60.2564\n",
      "90  83.3333  55.2564\n",
      "91  85.1282  51.4103\n",
      "(33, 2)\n"
     ]
    }
   ],
   "source": [
    "x50 = df1['x'] > 50\n",
    "y50 = df1['y'] > 50\n",
    "newdf1 = df1[x50 & y50]\n",
    "print(newdf1)\n",
    "print(newdf1.shape)"
   ]
  },
  {
   "cell_type": "code",
   "execution_count": 29,
   "metadata": {},
   "outputs": [
    {
     "name": "stdout",
     "output_type": "stream",
     "text": [
      "0      55.3846\n",
      "1      51.5385\n",
      "2      46.1538\n",
      "3      42.8205\n",
      "4      40.7692\n",
      "        ...   \n",
      "137    39.4872\n",
      "138    91.2821\n",
      "139    50.0000\n",
      "140    47.9487\n",
      "141    44.1026\n",
      "Name: x, Length: 142, dtype: float64\n"
     ]
    }
   ],
   "source": [
    "firstx = df1['x']\n",
    "print(firstx)"
   ]
  },
  {
   "cell_type": "code",
   "execution_count": 14,
   "metadata": {
    "scrolled": true
   },
   "outputs": [
    {
     "data": {
      "text/plain": [
       "<AxesSubplot:xlabel='x', ylabel='y'>"
      ]
     },
     "execution_count": 14,
     "metadata": {},
     "output_type": "execute_result"
    },
    {
     "data": {
      "image/png": "[encoded data removed]",
      "text/plain": [
       "<Figure size 432x288 with 1 Axes>"
      ]
     },
     "metadata": {
      "needs_background": "light"
     },
     "output_type": "display_data"
    }
   ],
   "source": [
    "df1.plot.scatter(x = 'x', y = 'y', s = 10, c = 'Black')"
   ]
  },
  {
   "cell_type": "code",
   "execution_count": 15,
   "metadata": {},
   "outputs": [
    {
     "data": {
      "text/plain": [
       "<AxesSubplot:xlabel='x', ylabel='y'>"
      ]
     },
     "execution_count": 15,
     "metadata": {},
     "output_type": "execute_result"
    },
    {
     "data": {
      "image/png": "[encoded data removed]",
      "text/plain": [
       "<Figure size 432x288 with 1 Axes>"
      ]
     },
     "metadata": {
      "needs_background": "light"
     },
     "output_type": "display_data"
    }
   ],
   "source": [
    "df2.plot.scatter(x = 'x', y = 'y', s = 10, c = 'Black')"
   ]
  },
  {
   "cell_type": "code",
   "execution_count": 16,
   "metadata": {},
   "outputs": [
    {
     "data": {
      "text/plain": [
       "<AxesSubplot:xlabel='x', ylabel='y'>"
      ]
     },
     "execution_count": 16,
     "metadata": {},
     "output_type": "execute_result"
    },
    {
     "data": {
      "image/png": "[encoded data removed]",
      "text/plain": [
       "<Figure size 432x288 with 1 Axes>"
      ]
     },
     "metadata": {
      "needs_background": "light"
     },
     "output_type": "display_data"
    }
   ],
   "source": [
    "df3.plot.scatter(x = 'x', y = 'y', s = 10, c = 'Black')"
   ]
  },
  {
   "cell_type": "markdown",
   "metadata": {},
   "source": [
    "## Checkpoint\n",
    "\n",
    "Congratulations! you have finished the required task for Week 2. Since you got this empty (without your code and output) notebook by downloading from iLearn, place this notebook (Workshop Week 2.ipynb) into your local copy of your Github repository (e.g. practical-workshops-sonitsingh)and commit your work with a suitable commit message and push your changes back to your Github repository. Show your tutor your updated Github repository to get your checkpoint mark."
   ]
  },
  {
   "cell_type": "markdown",
   "metadata": {},
   "source": [
    "# Further Practice\n",
    "\n",
    "If you finish this task you can practice more with pandas data frames by following the examples in the text, section 2.6.  The CSV file that they use in that section is available in the `files` directory of this repository as `educ_figdp_1_Data.csv`.   "
   ]
  },
  {
   "cell_type": "code",
   "execution_count": 12,
   "metadata": {},
   "outputs": [],
   "source": [
    "edufile = 'files/educ_figdp_1_Data.csv'"
   ]
  },
  {
   "cell_type": "code",
   "execution_count": null,
   "metadata": {},
   "outputs": [],
   "source": []
  }
 ],
 "metadata": {
  "kernelspec": {
   "display_name": "Python 3",
   "language": "python",
   "name": "python3"
  },
  "language_info": {
   "codemirror_mode": {
    "name": "ipython",
    "version": 3
   },
   "file_extension": ".py",
   "mimetype": "text/x-python",
   "name": "python",
   "nbconvert_exporter": "python",
   "pygments_lexer": "ipython3",
   "version": "3.8.8"
  }
 },
 "nbformat": 4,
 "nbformat_minor": 2
}
